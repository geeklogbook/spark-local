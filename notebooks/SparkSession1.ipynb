{
 "cells": [
  {
   "cell_type": "code",
   "execution_count": null,
   "id": "94335edf-f4ad-4d4e-af2d-b4893825b39a",
   "metadata": {},
   "outputs": [],
   "source": [
    "from pyspark.sql import SparkSession"
   ]
  },
  {
   "cell_type": "markdown",
   "id": "4a3e71b3-e2f7-4417-8eda-9440f03991ad",
   "metadata": {},
   "source": [
    "# Spark Session"
   ]
  },
  {
   "cell_type": "code",
   "execution_count": 14,
   "id": "f0292dec-9a4a-42e6-b653-8957df9ce12f",
   "metadata": {},
   "outputs": [],
   "source": [
    "spark_session_1 = SparkSession.builder \\\n",
    "    .appName(\"Session 1\") \\\n",
    "    .master(\"spark://spark-master:7077\") \\\n",
    "    # .config(\"spark.executor.cores\", \"2\") \\\n",
    "    # .config(\"spark.executor.memory\", \"1G\") \\\n",
    "    .getOrCreate()"
   ]
  },
  {
   "cell_type": "code",
   "execution_count": 15,
   "id": "483326f3-1f1b-472a-8825-34c13fe10041",
   "metadata": {},
   "outputs": [],
   "source": [
    "spark_session_1.stop()"
   ]
  },
  {
   "cell_type": "code",
   "execution_count": 8,
   "id": "682c4147-ddb9-4912-96b8-c96e959e2e46",
   "metadata": {},
   "outputs": [],
   "source": [
    "# spark_session_2 = SparkSession.builder \\\n",
    "#     .appName(\"Session 2\") \\\n",
    "#     .master(\"spark://spark-master:7077\") \\\n",
    "#     .config(\"spark.executor.cores\", \"2\") \\ # Establece los núcleos para esta sesión\n",
    "#     .getOrCreate()"
   ]
  },
  {
   "cell_type": "code",
   "execution_count": 9,
   "id": "b64f4877-fff0-4bb9-a66f-6d91f04b5de7",
   "metadata": {},
   "outputs": [],
   "source": [
    "# spark_session_2.stop()"
   ]
  }
 ],
 "metadata": {
  "kernelspec": {
   "display_name": "Python 3 (ipykernel)",
   "language": "python",
   "name": "python3"
  },
  "language_info": {
   "codemirror_mode": {
    "name": "ipython",
    "version": 3
   },
   "file_extension": ".py",
   "mimetype": "text/x-python",
   "name": "python",
   "nbconvert_exporter": "python",
   "pygments_lexer": "ipython3",
   "version": "3.11.6"
  }
 },
 "nbformat": 4,
 "nbformat_minor": 5
}
